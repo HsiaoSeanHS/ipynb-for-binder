{
  "cells": [
    {
      "cell_type": "code",
      "execution_count": 3,
      "metadata": {
        "id": "q9m3C-RU_rep"
      },
      "outputs": [],
      "source": [
        "# from google.colab import output\n",
        "%pip install finlab_crypto\n",
        "# output.clear()"
      ]
    },
    {
      "cell_type": "code",
      "execution_count": null,
      "metadata": {
        "colab": {
          "base_uri": "https://localhost:8080/",
          "height": 392
        },
        "id": "Qrsga-iQ3GCw",
        "outputId": "8c9c0893-71a9-4fc9-84bd-ea5fbdd09e88"
      },
      "outputs": [],
      "source": [
        "import pandas as pd\n",
        "import finlab_crypto\n",
        "\n",
        "finlab_crypto.setup()\n",
        "\n",
        "def history(pair, interval):\n",
        "    raw = finlab_crypto.crawler.get_all_binance(pair, interval)\n",
        "    # ohlcv.head()\n",
        "    df = pd.DataFrame(raw, columns=['timestamp','open', 'high', 'low', 'close', 'volume', 'close_time', 'quote_av', 'trades', 'tb_base_av', 'tb_quote_av', 'ignore'])\n",
        "    df = df.drop(['timestamp', 'close', 'volume', 'close_time', 'quote_av', 'trades', 'tb_base_av', 'tb_quote_av', 'ignore'], axis=1)\n",
        "    df['open'] = df['open'].astype(float)\n",
        "    df['high'] = df['high'].astype(float)\n",
        "    df['low'] = df['low'].astype(float)\n",
        "    df['high_open_ratio'] = (df['high'] - df['open']) / df['open']\n",
        "    df['open_low_ratio'] = (df['open'] - df['low']) / df['open']\n",
        "    return df\n",
        "\n",
        "data = history(\"BTCUSDT\", \"15m\")\n",
        "print(len(data))\n"
      ]
    },
    {
      "cell_type": "code",
      "execution_count": null,
      "metadata": {
        "id": "-dATlAmX_LFp"
      },
      "outputs": [],
      "source": [
        "import numpy as np\n",
        "\n",
        "times = 125\n",
        "\n",
        "# Calculate the 75th percentile\n",
        "high_open_percentile_75 = np.percentile(data['high_open_ratio'], 75)\n",
        "open_low_percentile_75 = np.percentile(data['open_low_ratio'], 75)\n",
        "\n",
        "# Display the results\n",
        "print(f\"75th percentile of (high - open) / open: {high_open_percentile_75*times}\")\n",
        "print(f\"75th percentile of (open - low) / open: {open_low_percentile_75*times}\")"
      ]
    }
  ],
  "metadata": {
    "colab": {
      "provenance": []
    },
    "kernelspec": {
      "display_name": "Python 3",
      "name": "python3"
    },
    "language_info": {
      "name": "python",
      "version": "3.10.11"
    }
  },
  "nbformat": 4,
  "nbformat_minor": 0
}
